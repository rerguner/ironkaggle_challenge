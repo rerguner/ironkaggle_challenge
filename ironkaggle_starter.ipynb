{
 "cells": [
  {
   "cell_type": "code",
   "execution_count": null,
   "id": "eb76bab9",
   "metadata": {},
   "outputs": [],
   "source": [
    "### Starter"
   ]
  }
 ],
 "metadata": {
  "language_info": {
   "name": "python"
  }
 },
 "nbformat": 4,
 "nbformat_minor": 5
}
