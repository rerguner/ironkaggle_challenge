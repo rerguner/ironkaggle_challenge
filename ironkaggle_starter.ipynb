{
 "cells": [
  {
   "cell_type": "code",
   "execution_count": 16,
   "id": "eb76bab9",
   "metadata": {},
   "outputs": [],
   "source": [
    "### Starter\n",
    "\n",
    "import pandas as pd\n",
    "import numpy as np\n",
    "import seaborn as sns\n",
    "import matplotlib.pyplot as plt"
   ]
  },
  {
   "cell_type": "code",
   "execution_count": 103,
   "id": "0f5976bd",
   "metadata": {},
   "outputs": [],
   "source": [
    "url = \"https://raw.githubusercontent.com/data-bootcamp-v4/data/main/sales.csv\"\n",
    "\n",
    "df = pd.read_csv(url, index_col=None)"
   ]
  },
  {
   "cell_type": "code",
   "execution_count": 78,
   "id": "f370ef9e",
   "metadata": {},
   "outputs": [],
   "source": [
    "def check_irregularities(dataframe):\n",
    "    print('DataFrame Shape -----------------------')\n",
    "    print(dataframe.shape)\n",
    "    print('DataFrame Null Values -----------------------')\n",
    "    print(dataframe.isna().sum())\n",
    "    print('DataFrame Duplicates -----------------------')\n",
    "    print(dataframe.duplicated().sum())\n",
    "    print('DataFrame Data Types -----------------------')\n",
    "    print(df.dtypes)"
   ]
  },
  {
   "cell_type": "code",
   "execution_count": 79,
   "id": "1253ceb4",
   "metadata": {},
   "outputs": [
    {
     "name": "stdout",
     "output_type": "stream",
     "text": [
      "DataFrame Shape -----------------------\n",
      "(640840, 13)\n",
      "DataFrame Null Values -----------------------\n",
      "True_index             0\n",
      "Store_ID               0\n",
      "Day_of_week            0\n",
      "Date                   0\n",
      "Nb_customers_on_day    0\n",
      "Open                   0\n",
      "Promotion              0\n",
      "State_holiday          0\n",
      "School_holiday         0\n",
      "Sales                  0\n",
      "Day_of_year            0\n",
      "week_num               0\n",
      "Week_num               0\n",
      "dtype: int64\n",
      "DataFrame Duplicates -----------------------\n",
      "0\n",
      "DataFrame Data Types -----------------------\n",
      "True_index                      int64\n",
      "Store_ID                        int64\n",
      "Day_of_week                     int64\n",
      "Date                   datetime64[ns]\n",
      "Nb_customers_on_day             int64\n",
      "Open                            int64\n",
      "Promotion                       int64\n",
      "State_holiday                   int64\n",
      "School_holiday                  int64\n",
      "Sales                           int64\n",
      "Day_of_year                     int32\n",
      "week_num                       object\n",
      "Week_num                       object\n",
      "dtype: object\n"
     ]
    }
   ],
   "source": [
    "check_irregularities(df)"
   ]
  },
  {
   "cell_type": "code",
   "execution_count": 106,
   "id": "25f1a02d",
   "metadata": {},
   "outputs": [],
   "source": [
    "def clean_dataframe(dataframe):\n",
    "    dataframe['Date'] = pd.to_datetime(dataframe['Date'])\n",
    "    dataframe['Week_num'] = df['Date'].dt.strftime('%U')\n",
    "    holiday_map = {'0': 0, 'a':1, 'b':1, 'c':1}\n",
    "    dataframe['State_holiday'] = dataframe['State_holiday'].map(holiday_map)\n",
    "    grouped = dataframe.groupby(['Week_num', 'Day_of_week']).agg(Promotion = ('Promotion', 'max'),\n",
    "                                                       State_holiday = ('State_holiday', 'max'), \n",
    "                                                       Sales_total = ('Sales', 'sum')).reset_index()\n",
    "    return grouped"
   ]
  },
  {
   "cell_type": "code",
   "execution_count": 107,
   "id": "1132ce83",
   "metadata": {},
   "outputs": [],
   "source": [
    "final_df = clean_dataframe(df)"
   ]
  },
  {
   "cell_type": "code",
   "execution_count": 108,
   "id": "452d3242",
   "metadata": {},
   "outputs": [
    {
     "data": {
      "text/html": [
       "<div>\n",
       "<style scoped>\n",
       "    .dataframe tbody tr th:only-of-type {\n",
       "        vertical-align: middle;\n",
       "    }\n",
       "\n",
       "    .dataframe tbody tr th {\n",
       "        vertical-align: top;\n",
       "    }\n",
       "\n",
       "    .dataframe thead th {\n",
       "        text-align: right;\n",
       "    }\n",
       "</style>\n",
       "<table border=\"1\" class=\"dataframe\">\n",
       "  <thead>\n",
       "    <tr style=\"text-align: right;\">\n",
       "      <th></th>\n",
       "      <th>Week_num</th>\n",
       "      <th>Day_of_week</th>\n",
       "      <th>Promotion</th>\n",
       "      <th>State_holiday</th>\n",
       "      <th>Sales_total</th>\n",
       "    </tr>\n",
       "  </thead>\n",
       "  <tbody>\n",
       "    <tr>\n",
       "      <th>0</th>\n",
       "      <td>00</td>\n",
       "      <td>2</td>\n",
       "      <td>0</td>\n",
       "      <td>1</td>\n",
       "      <td>62384</td>\n",
       "    </tr>\n",
       "    <tr>\n",
       "      <th>1</th>\n",
       "      <td>00</td>\n",
       "      <td>3</td>\n",
       "      <td>0</td>\n",
       "      <td>1</td>\n",
       "      <td>4436081</td>\n",
       "    </tr>\n",
       "    <tr>\n",
       "      <th>2</th>\n",
       "      <td>00</td>\n",
       "      <td>4</td>\n",
       "      <td>0</td>\n",
       "      <td>1</td>\n",
       "      <td>8726816</td>\n",
       "    </tr>\n",
       "    <tr>\n",
       "      <th>3</th>\n",
       "      <td>00</td>\n",
       "      <td>5</td>\n",
       "      <td>0</td>\n",
       "      <td>0</td>\n",
       "      <td>13516560</td>\n",
       "    </tr>\n",
       "    <tr>\n",
       "      <th>4</th>\n",
       "      <td>00</td>\n",
       "      <td>6</td>\n",
       "      <td>0</td>\n",
       "      <td>0</td>\n",
       "      <td>11466518</td>\n",
       "    </tr>\n",
       "  </tbody>\n",
       "</table>\n",
       "</div>"
      ],
      "text/plain": [
       "  Week_num  Day_of_week  Promotion  State_holiday  Sales_total\n",
       "0       00            2          0              1        62384\n",
       "1       00            3          0              1      4436081\n",
       "2       00            4          0              1      8726816\n",
       "3       00            5          0              0     13516560\n",
       "4       00            6          0              0     11466518"
      ]
     },
     "metadata": {},
     "output_type": "display_data"
    }
   ],
   "source": [
    "display(final_df.head())"
   ]
  }
 ],
 "metadata": {
  "kernelspec": {
   "display_name": "base",
   "language": "python",
   "name": "python3"
  },
  "language_info": {
   "codemirror_mode": {
    "name": "ipython",
    "version": 3
   },
   "file_extension": ".py",
   "mimetype": "text/x-python",
   "name": "python",
   "nbconvert_exporter": "python",
   "pygments_lexer": "ipython3",
   "version": "3.12.7"
  }
 },
 "nbformat": 4,
 "nbformat_minor": 5
}
